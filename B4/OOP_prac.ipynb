{
 "cells": [
  {
   "cell_type": "markdown",
   "id": "3a6c71da",
   "metadata": {},
   "source": [
    "## Account"
   ]
  },
  {
   "cell_type": "markdown",
   "id": "5f4f2a9f",
   "metadata": {},
   "source": [
    "- properties: [id, name, score]\n",
    "- methods: getter + setter, toString, compareTo"
   ]
  },
  {
   "cell_type": "code",
   "execution_count": 2,
   "id": "20292b3e",
   "metadata": {},
   "outputs": [],
   "source": [
    "class Account:\n",
    "    def __init__(self, id: int, name: str):\n",
    "        self.id = id\n",
    "        self.name = name\n",
    "        self.__score = 0\n",
    "        \n",
    "    @property\n",
    "    def score(self):\n",
    "        return self.__score\n",
    "    \n",
    "    def add_score(self, points: int):\n",
    "        self.__score += points\n",
    "\n",
    "    def getLoyaltyPromo(self):\n",
    "        \"\"\"15% discount if score is high (>= 100), else no discount\"\"\"\n",
    "        return 0.15 if self.__score >= 100 else 0.0\n",
    "    def __str__(self):\n",
    "        return f\"Account(id={self.id}, name='{self.name}', score={self.__score})\""
   ]
  },
  {
   "cell_type": "markdown",
   "id": "acbc8e9a",
   "metadata": {},
   "source": [
    "## Order"
   ]
  },
  {
   "cell_type": "markdown",
   "id": "7ead9097",
   "metadata": {},
   "source": [
    "- properties: [id, account, item_list(dict), voucher(str)]\n",
    "- methods: getVoucherPromo() - 10% getBulkOrderPromo() - 10% setScore(), printBill(), total()"
   ]
  },
  {
   "cell_type": "code",
   "execution_count": 3,
   "id": "cd682a7c",
   "metadata": {},
   "outputs": [],
   "source": [
    "class ItemManager:  # Danh sách món hàng được mua\n",
    "    def __init__(self) -> None:  # Mặc định khai báo giá trị món hàng là 0\n",
    "        self.items = {}\n",
    "\n",
    "    def add_items(self, item) -> None:\n",
    "        # (item obj, qty)\n",
    "        if item.id not in self.items:  # sửa __items thành items\n",
    "            self.items[item.id] = (item, 1)\n",
    "        else:\n",
    "            old_qty = self.items[item.id][1]\n",
    "            self.items[item.id] = (item, old_qty + 1)\n",
    "\n",
    "    def edit_item(self, id, new_item) -> None:\n",
    "        if id in self.items:\n",
    "            self.items[id] = (new_item, self.items[id][1])\n",
    "        else:\n",
    "            raise Exception(\"Item not found\")\n",
    "\n",
    "    def remove_item(self, id) -> None:\n",
    "        if id in self.items:\n",
    "            del self.items[id]\n",
    "        else:\n",
    "            raise Exception(\"Item not found\")\n",
    "\n",
    "    def get_price_by_qty(self, id):\n",
    "        if id in self.items:\n",
    "            return self.items[id][0].price * self.items[id][1]\n",
    "        else:\n",
    "            raise Exception(\"Item not found\")\n",
    "\n",
    "    def get_sum_qty(self):\n",
    "        return sum(item[1] for item in self.items.values())\n",
    "\n",
    "    def get_total_of_list(self):\n",
    "        return sum(item[0].price * item[1] for item in self.items.values())\n",
    "\n",
    "    def __str__(self) -> str:\n",
    "        result = \"Danh sách món hàng:\\n\"\n",
    "        for item_id, (item, qty) in self.items.items():\n",
    "            result += f\"ID: {item_id}, Tên: {item.name}, Số lượng: {qty}, Đơn giá: {item.price}, Tổng: {item.price * qty}\\n\"\n",
    "        result += f\"Tổng tiền: {self.get_total_of_list()}\"\n",
    "        return result\n"
   ]
  },
  {
   "cell_type": "code",
   "execution_count": 4,
   "id": "1b6a06ff",
   "metadata": {},
   "outputs": [],
   "source": [
    "class Order:\n",
    "    def __init__(self, account: Account, order_id: str, item_list: ItemManager, voucher: str = \"\") -> None:\n",
    "        self.account = account\n",
    "        self.order_id = order_id\n",
    "        self.item_list = item_list\n",
    "        self.voucher = voucher\n",
    "        \n",
    "    def calculate_total(self):\n",
    "        soluonglon = 0.1 if self.item_list.get_sum_qty() >= 10 else 0 \n",
    "        khachhangthanthiet = self.account.getLoyaltyPromo()\n",
    "        voucher = 0.1 if self.voucher != \"\" else 0\n",
    "        tong = self.item_list.get_total_of_list() * (1 - soluonglon - khachhangthanthiet - voucher)\n",
    "        return tong\n",
    "    def __set_new_score(self, bill_total) -> None:\n",
    "        new_point = int(bill_total * 0.1)\n",
    "        self.account.add_score(new_point)\n",
    "    \n",
    "    # in bill (luu vao file txt: bill_<order_id>.txt)\n",
    "    def printBill(self):\n",
    "        total_cost = self.calculate_total()\n",
    "\n",
    "        with open(f\"bill_{self.order_id}.txt\", \"w\") as file:\n",
    "            file.write(f\"Bill ID: {self.order_id}\\n\")\n",
    "            file.write(f\"Voucher: {self.voucher}\\n\")\n",
    "            file.write(f\"Loyalty Discount: {self.account.getLoyaltyPromo() * 100}%\\n\")\n",
    "            file.write(f\"Bulk Order Discount: {0.1 if self.item_list.get_sum_qty() >= 10 else 0  * 100}%\\n\")\n",
    "            file.write(f\"Total (after discounts): ${total_cost:.2f}\\n\")\n",
    "            file.write(f\"Score (after order): {self.account.score}\\n\")\n",
    "            file.write(\"\\nItems:\\n\")\n",
    "            file.write(self.item_list)"
   ]
  }
 ],
 "metadata": {
  "kernelspec": {
   "display_name": "Python 3",
   "language": "python",
   "name": "python3"
  },
  "language_info": {
   "codemirror_mode": {
    "name": "ipython",
    "version": 3
   },
   "file_extension": ".py",
   "mimetype": "text/x-python",
   "name": "python",
   "nbconvert_exporter": "python",
   "pygments_lexer": "ipython3",
   "version": "3.11.9"
  }
 },
 "nbformat": 4,
 "nbformat_minor": 5
}
