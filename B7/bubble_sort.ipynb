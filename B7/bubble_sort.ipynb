{
 "cells": [
  {
   "cell_type": "markdown",
   "id": "b9f09fd8",
   "metadata": {},
   "source": [
    "- Thuật toán nổi bọt 0(n^2)\n",
    "- Chạy vòng lặp + swap cặp -> swap ngay trong vòng"
   ]
  },
  {
   "cell_type": "code",
   "execution_count": 1,
   "id": "31369a82",
   "metadata": {},
   "outputs": [],
   "source": [
    "def bubble_sort(arr):\n",
    "    for i in range(len(arr)):\n",
    "        swapped = False\n",
    "        for j in range(0, len(arr) - i - 1):\n",
    "            if arr[j] > arr[j+1]:\n",
    "                arr[j], arr[j+1] = arr[j+1], arr[j]\n",
    "                swapped = True\n",
    "        if not swapped:\n",
    "            break\n",
    "    return arr"
   ]
  },
  {
   "cell_type": "code",
   "execution_count": 2,
   "id": "5a4c773b",
   "metadata": {},
   "outputs": [
    {
     "name": "stdout",
     "output_type": "stream",
     "text": [
      "[966, 358, 375, 292, 389, 50, 205, 948, 19, 376]\n",
      "[0, 1, 2, 3, 4, 5, 6, 7, 8, 9]\n",
      "Time: 0.0962 s\n"
     ]
    }
   ],
   "source": [
    "import random\n",
    "import timeit\n",
    "arr = random.sample(range(1000), 1000)\n",
    "print(arr[:10])\n",
    "exc_time = timeit.timeit(lambda: bubble_sort(arr), number=1000)\n",
    "print(bubble_sort(arr)[:10])\n",
    "print(f\"Time: {exc_time:.4f} s\")"
   ]
  }
 ],
 "metadata": {
  "kernelspec": {
   "display_name": "Python 3",
   "language": "python",
   "name": "python3"
  },
  "language_info": {
   "codemirror_mode": {
    "name": "ipython",
    "version": 3
   },
   "file_extension": ".py",
   "mimetype": "text/x-python",
   "name": "python",
   "nbconvert_exporter": "python",
   "pygments_lexer": "ipython3",
   "version": "3.11.9"
  }
 },
 "nbformat": 4,
 "nbformat_minor": 5
}
