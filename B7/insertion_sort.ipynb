{
 "cells": [
  {
   "cell_type": "markdown",
   "id": "4cd9362e",
   "metadata": {},
   "source": [
    "- Thuật toán chèn\n",
    "- Input: mảng chưa sắp xếp\n",
    "- Output: mảng đã sắp xếp"
   ]
  },
  {
   "cell_type": "code",
   "execution_count": 4,
   "id": "23500ed0",
   "metadata": {},
   "outputs": [],
   "source": [
    "def insertion_sort(arr):\n",
    "    for index in range(1, len(arr)):\n",
    "        insert_index = index\n",
    "        current_value = arr.pop(index)\n",
    "        for j in range(index, -1, -1, -1):\n",
    "            if arr[j] > current_value:\n",
    "                insert_index = j\n",
    "        arr.insert(insert_index, current_value)\n",
    "    return arr"
   ]
  },
  {
   "cell_type": "code",
   "execution_count": 9,
   "id": "4c46a34a",
   "metadata": {},
   "outputs": [
    {
     "name": "stdout",
     "output_type": "stream",
     "text": [
      "[664, 988, 934, 249, 34, 66, 155, 883, 815, 451]\n"
     ]
    },
    {
     "ename": "TypeError",
     "evalue": "range expected at most 3 arguments, got 4",
     "output_type": "error",
     "traceback": [
      "\u001b[31m---------------------------------------------------------------------------\u001b[39m",
      "\u001b[31mTypeError\u001b[39m                                 Traceback (most recent call last)",
      "\u001b[36mCell\u001b[39m\u001b[36m \u001b[39m\u001b[32mIn[9]\u001b[39m\u001b[32m, line 5\u001b[39m\n\u001b[32m      3\u001b[39m arr = random.sample(\u001b[38;5;28mrange\u001b[39m(\u001b[32m1000\u001b[39m), \u001b[32m1000\u001b[39m)\n\u001b[32m      4\u001b[39m \u001b[38;5;28mprint\u001b[39m(arr[:\u001b[32m10\u001b[39m])\n\u001b[32m----> \u001b[39m\u001b[32m5\u001b[39m exc_time = \u001b[43mtimeit\u001b[49m\u001b[43m.\u001b[49m\u001b[43mtimeit\u001b[49m\u001b[43m(\u001b[49m\u001b[38;5;28;43;01mlambda\u001b[39;49;00m\u001b[43m:\u001b[49m\u001b[43m \u001b[49m\u001b[43minsertion_sort\u001b[49m\u001b[43m(\u001b[49m\u001b[43marr\u001b[49m\u001b[43m)\u001b[49m\u001b[43m,\u001b[49m\u001b[43m \u001b[49m\u001b[43mnumber\u001b[49m\u001b[43m=\u001b[49m\u001b[32;43m1000\u001b[39;49m\u001b[43m)\u001b[49m\n\u001b[32m      6\u001b[39m \u001b[38;5;28mprint\u001b[39m(insertion_sort(arr)[:\u001b[32m10\u001b[39m])\n\u001b[32m      7\u001b[39m \u001b[38;5;28mprint\u001b[39m(\u001b[33mf\u001b[39m\u001b[33m\"\u001b[39m\u001b[33mTime: \u001b[39m\u001b[38;5;132;01m{\u001b[39;00mexc_time\u001b[38;5;132;01m:\u001b[39;00m\u001b[33m.4f\u001b[39m\u001b[38;5;132;01m}\u001b[39;00m\u001b[33m s\u001b[39m\u001b[33m\"\u001b[39m)\n",
      "\u001b[36mFile \u001b[39m\u001b[32mC:\\Program Files\\WindowsApps\\PythonSoftwareFoundation.Python.3.11_3.11.2544.0_x64__qbz5n2kfra8p0\\Lib\\timeit.py:237\u001b[39m, in \u001b[36mtimeit\u001b[39m\u001b[34m(stmt, setup, timer, number, globals)\u001b[39m\n\u001b[32m    234\u001b[39m \u001b[38;5;28;01mdef\u001b[39;00m\u001b[38;5;250m \u001b[39m\u001b[34mtimeit\u001b[39m(stmt=\u001b[33m\"\u001b[39m\u001b[33mpass\u001b[39m\u001b[33m\"\u001b[39m, setup=\u001b[33m\"\u001b[39m\u001b[33mpass\u001b[39m\u001b[33m\"\u001b[39m, timer=default_timer,\n\u001b[32m    235\u001b[39m            number=default_number, \u001b[38;5;28mglobals\u001b[39m=\u001b[38;5;28;01mNone\u001b[39;00m):\n\u001b[32m    236\u001b[39m \u001b[38;5;250m    \u001b[39m\u001b[33;03m\"\"\"Convenience function to create Timer object and call timeit method.\"\"\"\u001b[39;00m\n\u001b[32m--> \u001b[39m\u001b[32m237\u001b[39m     \u001b[38;5;28;01mreturn\u001b[39;00m \u001b[43mTimer\u001b[49m\u001b[43m(\u001b[49m\u001b[43mstmt\u001b[49m\u001b[43m,\u001b[49m\u001b[43m \u001b[49m\u001b[43msetup\u001b[49m\u001b[43m,\u001b[49m\u001b[43m \u001b[49m\u001b[43mtimer\u001b[49m\u001b[43m,\u001b[49m\u001b[43m \u001b[49m\u001b[38;5;28;43mglobals\u001b[39;49m\u001b[43m)\u001b[49m\u001b[43m.\u001b[49m\u001b[43mtimeit\u001b[49m\u001b[43m(\u001b[49m\u001b[43mnumber\u001b[49m\u001b[43m)\u001b[49m\n",
      "\u001b[36mFile \u001b[39m\u001b[32mC:\\Program Files\\WindowsApps\\PythonSoftwareFoundation.Python.3.11_3.11.2544.0_x64__qbz5n2kfra8p0\\Lib\\timeit.py:180\u001b[39m, in \u001b[36mTimer.timeit\u001b[39m\u001b[34m(self, number)\u001b[39m\n\u001b[32m    178\u001b[39m gc.disable()\n\u001b[32m    179\u001b[39m \u001b[38;5;28;01mtry\u001b[39;00m:\n\u001b[32m--> \u001b[39m\u001b[32m180\u001b[39m     timing = \u001b[38;5;28;43mself\u001b[39;49m\u001b[43m.\u001b[49m\u001b[43minner\u001b[49m\u001b[43m(\u001b[49m\u001b[43mit\u001b[49m\u001b[43m,\u001b[49m\u001b[43m \u001b[49m\u001b[38;5;28;43mself\u001b[39;49m\u001b[43m.\u001b[49m\u001b[43mtimer\u001b[49m\u001b[43m)\u001b[49m\n\u001b[32m    181\u001b[39m \u001b[38;5;28;01mfinally\u001b[39;00m:\n\u001b[32m    182\u001b[39m     \u001b[38;5;28;01mif\u001b[39;00m gcold:\n",
      "\u001b[36mFile \u001b[39m\u001b[32m<timeit-src>:6\u001b[39m, in \u001b[36minner\u001b[39m\u001b[34m(_it, _timer, _stmt)\u001b[39m\n",
      "\u001b[36mCell\u001b[39m\u001b[36m \u001b[39m\u001b[32mIn[9]\u001b[39m\u001b[32m, line 5\u001b[39m, in \u001b[36m<lambda>\u001b[39m\u001b[34m()\u001b[39m\n\u001b[32m      3\u001b[39m arr = random.sample(\u001b[38;5;28mrange\u001b[39m(\u001b[32m1000\u001b[39m), \u001b[32m1000\u001b[39m)\n\u001b[32m      4\u001b[39m \u001b[38;5;28mprint\u001b[39m(arr[:\u001b[32m10\u001b[39m])\n\u001b[32m----> \u001b[39m\u001b[32m5\u001b[39m exc_time = timeit.timeit(\u001b[38;5;28;01mlambda\u001b[39;00m: \u001b[43minsertion_sort\u001b[49m\u001b[43m(\u001b[49m\u001b[43marr\u001b[49m\u001b[43m)\u001b[49m, number=\u001b[32m1000\u001b[39m)\n\u001b[32m      6\u001b[39m \u001b[38;5;28mprint\u001b[39m(insertion_sort(arr)[:\u001b[32m10\u001b[39m])\n\u001b[32m      7\u001b[39m \u001b[38;5;28mprint\u001b[39m(\u001b[33mf\u001b[39m\u001b[33m\"\u001b[39m\u001b[33mTime: \u001b[39m\u001b[38;5;132;01m{\u001b[39;00mexc_time\u001b[38;5;132;01m:\u001b[39;00m\u001b[33m.4f\u001b[39m\u001b[38;5;132;01m}\u001b[39;00m\u001b[33m s\u001b[39m\u001b[33m\"\u001b[39m)\n",
      "\u001b[36mCell\u001b[39m\u001b[36m \u001b[39m\u001b[32mIn[4]\u001b[39m\u001b[32m, line 5\u001b[39m, in \u001b[36minsertion_sort\u001b[39m\u001b[34m(arr)\u001b[39m\n\u001b[32m      3\u001b[39m insert_index = index\n\u001b[32m      4\u001b[39m current_value = arr.pop(index)\n\u001b[32m----> \u001b[39m\u001b[32m5\u001b[39m \u001b[38;5;28;01mfor\u001b[39;00m j \u001b[38;5;129;01min\u001b[39;00m \u001b[38;5;28;43mrange\u001b[39;49m\u001b[43m(\u001b[49m\u001b[43mindex\u001b[49m\u001b[43m,\u001b[49m\u001b[43m \u001b[49m\u001b[43m-\u001b[49m\u001b[32;43m1\u001b[39;49m\u001b[43m,\u001b[49m\u001b[43m \u001b[49m\u001b[43m-\u001b[49m\u001b[32;43m1\u001b[39;49m\u001b[43m,\u001b[49m\u001b[43m \u001b[49m\u001b[43m-\u001b[49m\u001b[32;43m1\u001b[39;49m\u001b[43m)\u001b[49m:\n\u001b[32m      6\u001b[39m     \u001b[38;5;28;01mif\u001b[39;00m arr[j] > current_value:\n\u001b[32m      7\u001b[39m         insert_index = j\n",
      "\u001b[31mTypeError\u001b[39m: range expected at most 3 arguments, got 4"
     ]
    }
   ],
   "source": [
    "import random\n",
    "import timeit\n",
    "arr = random.sample(range(1000), 1000)\n",
    "print(arr[:10])\n",
    "exc_time = timeit.timeit(lambda: insertion_sort(arr), number=1000)\n",
    "print(insertion_sort(arr)[:10])\n",
    "print(f\"Time: {exc_time:.4f} s\")"
   ]
  }
 ],
 "metadata": {
  "kernelspec": {
   "display_name": "Python 3",
   "language": "python",
   "name": "python3"
  },
  "language_info": {
   "codemirror_mode": {
    "name": "ipython",
    "version": 3
   },
   "file_extension": ".py",
   "mimetype": "text/x-python",
   "name": "python",
   "nbconvert_exporter": "python",
   "pygments_lexer": "ipython3",
   "version": "3.11.9"
  }
 },
 "nbformat": 4,
 "nbformat_minor": 5
}
