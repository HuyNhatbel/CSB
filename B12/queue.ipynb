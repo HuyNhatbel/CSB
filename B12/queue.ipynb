{
 "cells": [
  {
   "cell_type": "markdown",
   "id": "b71abeda",
   "metadata": {},
   "source": [
    "## Queue (hàng đợi)\n",
    "- Là danh sách thêm phần tử ở cuối và bỏ phần tử đầu\n",
    "- First in - First out (FIFO)"
   ]
  },
  {
   "cell_type": "code",
   "execution_count": 6,
   "id": "455b00c8",
   "metadata": {},
   "outputs": [],
   "source": [
    "class Queue:\n",
    "    def __init__(self):\n",
    "        self.__queue = []\n",
    "        \n",
    "    def enqueue(self, new_item):\n",
    "        self.__queue.append(new_item)\n",
    "        \n",
    "    def dequeue(self):\n",
    "        if not self.is_empty():\n",
    "            return self.__queue.pop(0)\n",
    "        \n",
    "    def is_empty(self):\n",
    "        return len(self.__queue) == 0\n",
    "    \n",
    "    @property\n",
    "    def size(self):\n",
    "        return int(len(self.__queue))\n",
    "    \n",
    "    @property\n",
    "    def front(self):\n",
    "        if not self.is_empty(): return self.__queue[0]\n",
    "        \n",
    "    def __str__(self):\n",
    "        return str(self.__queue)"
   ]
  },
  {
   "cell_type": "code",
   "execution_count": 7,
   "id": "3b2d5362",
   "metadata": {},
   "outputs": [
    {
     "name": "stdout",
     "output_type": "stream",
     "text": [
      "[324, 74, 3, 60]\n",
      "324\n",
      "[74, 3, 60]\n"
     ]
    },
    {
     "ename": "TypeError",
     "evalue": "'int' object is not callable",
     "output_type": "error",
     "traceback": [
      "\u001b[31m---------------------------------------------------------------------------\u001b[39m",
      "\u001b[31mTypeError\u001b[39m                                 Traceback (most recent call last)",
      "\u001b[36mCell\u001b[39m\u001b[36m \u001b[39m\u001b[32mIn[7]\u001b[39m\u001b[32m, line 11\u001b[39m\n\u001b[32m      9\u001b[39m \u001b[38;5;28mprint\u001b[39m(queue)\n\u001b[32m     10\u001b[39m queue.enqueue(\u001b[32m124\u001b[39m)\n\u001b[32m---> \u001b[39m\u001b[32m11\u001b[39m \u001b[38;5;28mprint\u001b[39m(\u001b[43mqueue\u001b[49m\u001b[43m.\u001b[49m\u001b[43msize\u001b[49m\u001b[43m(\u001b[49m\u001b[43m)\u001b[49m)\n",
      "\u001b[31mTypeError\u001b[39m: 'int' object is not callable"
     ]
    }
   ],
   "source": [
    "#test drive\n",
    "queue = Queue()\n",
    "queue.enqueue(324)\n",
    "queue.enqueue(74)\n",
    "queue.enqueue(3)\n",
    "queue.enqueue(60)\n",
    "print(queue)\n",
    "print(queue.dequeue())\n",
    "print(queue)\n",
    "queue.enqueue(124)\n",
    "print(queue.size())"
   ]
  }
 ],
 "metadata": {
  "kernelspec": {
   "display_name": "Python 3",
   "language": "python",
   "name": "python3"
  },
  "language_info": {
   "codemirror_mode": {
    "name": "ipython",
    "version": 3
   },
   "file_extension": ".py",
   "mimetype": "text/x-python",
   "name": "python",
   "nbconvert_exporter": "python",
   "pygments_lexer": "ipython3",
   "version": "3.11.9"
  }
 },
 "nbformat": 4,
 "nbformat_minor": 5
}
