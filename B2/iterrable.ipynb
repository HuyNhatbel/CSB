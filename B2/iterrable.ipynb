{
 "cells": [
  {
   "cell_type": "markdown",
   "id": "a58467cc",
   "metadata": {},
   "source": [
    "# Danh sách có index"
   ]
  },
  {
   "cell_type": "markdown",
   "id": "e80ff3e8",
   "metadata": {},
   "source": [
    "## List [ ]\n",
    "- chứa các phần tử có thứ tự, có giá trị là bất kỳ kiểu dữ liệu nào\n",
    "- có thể truy cập giá trị của phần tử bằng chỉ số vị trí (index)\n",
    "- có kích thước thay đổi được khi thực thi chương trình"
   ]
  },
  {
   "cell_type": "code",
   "execution_count": 5,
   "id": "67e66d72",
   "metadata": {},
   "outputs": [
    {
     "name": "stdout",
     "output_type": "stream",
     "text": [
      "True\n",
      "['item0', 'item1', 'item2', 'item3', 'item4']\n",
      "['item0', 'item1', 'item2', 'item3', 'item5']\n",
      "['item0', 'item1', 'item3', 'item5']\n",
      "['item0', 'item1', 'item3']\n",
      "['item3', 'item1', 'item0']\n"
     ]
    }
   ],
   "source": [
    "l = [\"item1\", \"item2\", \"item3\"]\n",
    "print(l[-3] == l[0]) # True\n",
    "l.append(\"item4\")\n",
    "l.insert(0, \"item0\")\n",
    "print(l)\n",
    "l[4] = \"item5\"\n",
    "print(l)\n",
    "l.remove(\"item2\")\n",
    "print(l)\n",
    "del l[len(l)-1]\n",
    "print(l)\n",
    "print(l[::-1])"
   ]
  },
  {
   "cell_type": "code",
   "execution_count": 6,
   "id": "31f13e38",
   "metadata": {},
   "outputs": [
    {
     "name": "stdout",
     "output_type": "stream",
     "text": [
      "['item3', 'item1', 'item0']\n",
      "['item1']\n"
     ]
    }
   ],
   "source": [
    "# Slice (cắt mảng) [start:stop:step]\n",
    "#start: vị trí bắt đầu (mặc định là 0)\n",
    "#stop: vị trí kết thúc (mặc định là phần tử cuối cùng trong danh sách)\n",
    "#step: bước nhảy (mặc định là 1)\n",
    "print(l[::-1])\n",
    "print(l[1:3:2])"
   ]
  },
  {
   "cell_type": "markdown",
   "id": "c3e104f1",
   "metadata": {},
   "source": [
    "## Tuple ( )"
   ]
  },
  {
   "cell_type": "markdown",
   "id": "4e47493b",
   "metadata": {},
   "source": [
    "- Có index\n",
    "- Không thể cập nhật giá trị phần tử\n",
    "- Những tính chất khác giống list"
   ]
  },
  {
   "cell_type": "markdown",
   "id": "9606f581",
   "metadata": {},
   "source": [
    "## String \" \""
   ]
  },
  {
   "cell_type": "markdown",
   "id": "84acf46f",
   "metadata": {},
   "source": [
    "- Có index -> có thể truy cập phần tử từ index\n",
    "- Không thể thay đổi một kí tự con trong chuỗi\n",
    "- Thêm/cộng dồn chuỗi + cắt chuỗi => giống **list**"
   ]
  },
  {
   "cell_type": "markdown",
   "id": "474df112",
   "metadata": {},
   "source": [
    "# Danh sách không có thứ tự truy cập (index)"
   ]
  },
  {
   "cell_type": "markdown",
   "id": "bc52d858",
   "metadata": {},
   "source": [
    "## Set { }"
   ]
  },
  {
   "cell_type": "markdown",
   "id": "bab5b814",
   "metadata": {},
   "source": [
    "- Nếu là **set rỗng** => phải viết **set()** vì nếu dùng *{} thì sẽ là dictionary*\n",
    "- Danh sách không trùng lặp (xóa phần tử trùng lặp tính từ bên phải)\n",
    "- Vì không có index -> không truy cập được một phần tử bất kì"
   ]
  },
  {
   "cell_type": "code",
   "execution_count": 7,
   "id": "24ae16ac",
   "metadata": {},
   "outputs": [
    {
     "name": "stdout",
     "output_type": "stream",
     "text": [
      "{'item6', 'item3', 'item2', 'item5', 'item1'}\n",
      "True\n",
      "{'item6', 'item3', 'item2', 'item5', 'item1'}\n",
      "{'item6', 'item5', 'item1'}\n"
     ]
    }
   ],
   "source": [
    "# khai báo\n",
    "set1 = {\"item1\", \"item2\", \"item3\"}\n",
    "\n",
    "# thêm phần tử \n",
    "set1.add(\"item3\") # thêm phần tử mới\n",
    "set1.update([\"item5\", \"item6\"]) # thêm nhiều phần tử mới\n",
    "print(set1)\n",
    "\n",
    "# tìm kiếm phần tử \n",
    "print(\"item1\" in set1) # kiểm tra phần tử có trong set hay không\n",
    "print(set1)\n",
    "\n",
    "# xóa phần tử\n",
    "set1.remove(\"item2\") # xóa phần tử nếu có\n",
    "set1.discard(\"item3\") # xóa phần tử nếu có, nếu không có thì không làm gì cả\n",
    "print(set1)"
   ]
  },
  {
   "cell_type": "markdown",
   "id": "74e62c09",
   "metadata": {},
   "source": [
    "## Dictionary {}"
   ]
  },
  {
   "cell_type": "markdown",
   "id": "14bcd711",
   "metadata": {},
   "source": [
    "- Danh sách có 2 phần: **{\"key\": \"value\"}**\n",
    "- Mỗi item (key/value) cách nhau bởi dấu **,**\n",
    "- Key không được trùng giữa các item => trùng lặp thì ghi đề value cũ"
   ]
  },
  {
   "cell_type": "code",
   "execution_count": 5,
   "id": "e81793f4",
   "metadata": {},
   "outputs": [
    {
     "name": "stdout",
     "output_type": "stream",
     "text": [
      "{'01': 'Nguyễn A', '02': 'Nguyễn B', '03': 'Nguyễn C'}\n",
      "{'01': 'Nguyễn A', '02': 'Nguyễn B', '03': 'Nguyễn C', '04': 'Nguyễn D'}\n",
      "{'01': 'Nguyễn A', '03': 'Nguyễn C', '04': 'Nguyễn D'}\n",
      "Nguyễn A\n",
      "<class 'tuple'>\n",
      "{'03': 'Nguyễn C', '02': 'Nguyễn B1'}\n",
      "03: Nguyễn C\n",
      "02: Nguyễn B1\n",
      "{'02': 'Nguyễn B1'}\n"
     ]
    }
   ],
   "source": [
    "# Khai \n",
    "students = {\n",
    "    \"01\": \"Nguyễn A\",\n",
    "    \"02\": \"Nguyễn B\",\n",
    "    \"03\": \"Nguyễn C\"\n",
    "}\n",
    "print(students)\n",
    "\n",
    "# Thêm phần tử\n",
    "students[\"04\"] = \"Nguyễn D\"\n",
    "print(students)\n",
    "\n",
    "# Xóa phần tử\n",
    "del students[\"02\"]\n",
    "print(students)\n",
    "\n",
    "# pop(key,default) => return value của key đã nhập, k có trả về default\n",
    "delete = students.pop(\"01\", \"Không tìm thấy\")\n",
    "print(delete)\n",
    "\n",
    "# popitem() => xóa phần tử cuối cùng => return tuple (key, value)\n",
    "delete = students.popitem()\n",
    "print(type(delete))\n",
    "# Sửa phần tử (ghi đè)\n",
    "students[\"02\"] = \"Nguyễn B1\"\n",
    "print(students)\n",
    "\n",
    "# Tìm kiếm phần tử\n",
    "# dict.keys(): danh sach khoa\n",
    "# dict.values(): danh sach gia tri\n",
    "# dict.items(): danh sach tuple (khoa, gia tri)\n",
    "for key, value in students.items():\n",
    "    print(f\"{key}: {value}\")\n",
    "\n",
    "# => tao dict bang for (viet tat) lay danh sach co id la so chan\n",
    "danh_sach_moi = {k: v for k, v in students.items() if int(k) % 2 == 0}\n",
    "print(danh_sach_moi)"
   ]
  }
 ],
 "metadata": {
  "kernelspec": {
   "display_name": "Python 3",
   "language": "python",
   "name": "python3"
  },
  "language_info": {
   "codemirror_mode": {
    "name": "ipython",
    "version": 3
   },
   "file_extension": ".py",
   "mimetype": "text/x-python",
   "name": "python",
   "nbconvert_exporter": "python",
   "pygments_lexer": "ipython3",
   "version": "3.11.9"
  }
 },
 "nbformat": 4,
 "nbformat_minor": 5
}
