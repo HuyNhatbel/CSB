{
 "cells": [
  {
   "cell_type": "markdown",
   "id": "43f3f294",
   "metadata": {},
   "source": [
    "- Khai báo hàm **def**\n",
    "- Khi khai báo, trong ngoặc tròn (tham số/ parameters)\n",
    "- Nếu gọi hàm để chạy => (đổi số)\n",
    "- **return**: trả về giá trị cụ thể"
   ]
  },
  {
   "cell_type": "code",
   "execution_count": null,
   "id": "afd1e768",
   "metadata": {},
   "outputs": [
    {
     "data": {
      "text/plain": [
       "False"
      ]
     },
     "execution_count": 2,
     "metadata": {},
     "output_type": "execute_result"
    }
   ],
   "source": [
    "# Hàm 1 dòng (lambda)\n",
    "# Tạo hàm kiểm tra số lẻ\n",
    "def is_odd(m: int) -> bool:\n",
    "    return m%2 != 0\n",
    "\n",
    "is_odd(1)\n",
    "\n",
    "# Cú pháp: lambda <prams> : <code return>\n",
    "odd_value = lambda n: n%2 != 0\n",
    "odd_value(2)"
   ]
  }
 ],
 "metadata": {
  "kernelspec": {
   "display_name": "Python 3",
   "language": "python",
   "name": "python3"
  },
  "language_info": {
   "codemirror_mode": {
    "name": "ipython",
    "version": 3
   },
   "file_extension": ".py",
   "mimetype": "text/x-python",
   "name": "python",
   "nbconvert_exporter": "python",
   "pygments_lexer": "ipython3",
   "version": "3.11.9"
  }
 },
 "nbformat": 4,
 "nbformat_minor": 5
}
