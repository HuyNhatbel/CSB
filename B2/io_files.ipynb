{
 "cells": [
  {
   "cell_type": "markdown",
   "id": "a1d11ce2",
   "metadata": {},
   "source": [
    "# Tạo/ Đọc file"
   ]
  },
  {
   "cell_type": "code",
   "execution_count": 2,
   "id": "8a5427ca",
   "metadata": {},
   "outputs": [
    {
     "name": "stdout",
     "output_type": "stream",
     "text": [
      "ABC\n",
      "123\n",
      "@#!\n",
      "\n",
      "[]\n"
     ]
    }
   ],
   "source": [
    "# Tạo biến lưu file được gọi\n",
    "file = open('data.txt', 'r')\n",
    "# Đọc dữ liệu\n",
    "# read(): đọc hết dữ liệu => return: string\n",
    "data = file.read()\n",
    "print(data)\n",
    "# readline(): đọc từng dòng => return: string\n",
    "data = file.readline()\n",
    "print(data)\n",
    "# readlines(): đọc hết dữ liệu (lấy luôn kí tự đặc biệt) => return: list\n",
    "data = file.readlines()\n",
    "print(data)\n",
    "\n",
    "# Đóng file\n",
    "file.close()"
   ]
  },
  {
   "cell_type": "markdown",
   "id": "8e597417",
   "metadata": {},
   "source": [
    "# Ghi file"
   ]
  },
  {
   "cell_type": "code",
   "execution_count": 3,
   "id": "2932b812",
   "metadata": {},
   "outputs": [],
   "source": [
    "# w: ghi đè file cũ hoặc tạo mới nếu chưa có\n",
    "# x: tạo mới và ghi vào, nếu đã có file -> báo lỗi\n",
    "with open(\"new_data.txt\", \"w\", encoding=\"utf-8\") as file:\n",
    "    # ghi 1 dong \n",
    "    file.write(\"Hello, World!\")\n",
    "    # ghi nhiều dong\n",
    "    file.write(\"\\n\")\n",
    "    file.write(\"Python\\t\")\n",
    "# a: append, ghi tiep du lieu trong file (bổ sung vào cuối file)\n",
    "with open(\"new_data.txt\", \"a\") as file:\n",
    "    # viet nhieu dong \n",
    "    file.writelines([\"abc\\n\", \"xyz\\n\", \"123\\n\"])"
   ]
  }
 ],
 "metadata": {
  "kernelspec": {
   "display_name": "Python 3",
   "language": "python",
   "name": "python3"
  },
  "language_info": {
   "codemirror_mode": {
    "name": "ipython",
    "version": 3
   },
   "file_extension": ".py",
   "mimetype": "text/x-python",
   "name": "python",
   "nbconvert_exporter": "python",
   "pygments_lexer": "ipython3",
   "version": "3.11.9"
  }
 },
 "nbformat": 4,
 "nbformat_minor": 5
}
