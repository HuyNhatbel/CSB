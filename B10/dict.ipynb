{
 "cells": [
  {
   "cell_type": "markdown",
   "id": "995bbe0d",
   "metadata": {},
   "source": [
    "## Ánh xạ (mapping):\n",
    "- Sử dụng hàm: map(func, iterable)\n",
    "- Trả về kiểu dữ liệu map -> ép về kiểu dữ liệu cũ sau khi map"
   ]
  },
  {
   "cell_type": "code",
   "execution_count": 7,
   "id": "a175d0e5",
   "metadata": {},
   "outputs": [],
   "source": [
    "names = [\n",
    "    \"Emma Johnson\",\n",
    "    \"Liam Smith\",\n",
    "    \"Olivia Brown\",\n",
    "    \"Noah Garcia\",\n",
    "    \"Ava Martinez\",\n",
    "    \"Elijah Davis\",\n",
    "    \"Sophia Taylor\",\n",
    "    \"James Miller\",\n",
    "    \"Isabella Wilson\",\n",
    "    \"Benjamin Anderson\",\n",
    "    \"Mia Thomas\",\n",
    "    \"Lucas Moore\",\n",
    "    \"Charlotte Martin\",\n",
    "    \"Henry Lee\",\n",
    "    \"Amelia White\",\n",
    "    \"Alexander Harris\",\n",
    "    \"Harper Clark\",\n",
    "    \"Ethan Lewis\",\n",
    "    \"Evelyn Young\",\n",
    "    \"William Hall\"\n",
    "]"
   ]
  },
  {
   "cell_type": "code",
   "execution_count": 9,
   "id": "861e3484",
   "metadata": {},
   "outputs": [
    {
     "name": "stdout",
     "output_type": "stream",
     "text": [
      "['EMMA', 'LIAM', 'OLIVIA', 'NOAH', 'AVA', 'ELIJAH', 'SOPHIA', 'JAMES', 'ISABELLA', 'BENJAMIN', 'MIA', 'LUCAS', 'CHARLOTTE', 'HENRY', 'AMELIA', 'ALEXANDER', 'HARPER', 'ETHAN', 'EVELYN', 'WILLIAM']\n"
     ]
    }
   ],
   "source": [
    "# Cho danh sách họ và tên -> xuất ra danh sách chỉ lấy tên\n",
    "first_name = map(lambda fullName: fullName.split()[0].upper(), names)\n",
    "print(list(first_name))"
   ]
  },
  {
   "cell_type": "markdown",
   "id": "7d653c7b",
   "metadata": {},
   "source": [
    "## Dictionary\n",
    "- Sử dụng cơ chế mapping: key -> value (bất kì)\n",
    "- Không có chỉ số index\n",
    "- Key là duy nhất (không trùng lặp)"
   ]
  },
  {
   "cell_type": "code",
   "execution_count": 2,
   "id": "df5654d5",
   "metadata": {},
   "outputs": [],
   "source": [
    "# khai báo\n",
    "dict1 = {}\n",
    "dict2 = dict()\n",
    "student_obj = {\"id\": 1, \"name\": \"John\"}"
   ]
  },
  {
   "cell_type": "code",
   "execution_count": 5,
   "id": "40b6f138",
   "metadata": {},
   "outputs": [
    {
     "name": "stdout",
     "output_type": "stream",
     "text": [
      "Student's name:  new name\n",
      "Student's id:  1\n"
     ]
    }
   ],
   "source": [
    "# truy xuất\n",
    "print(\"Student's name: \", student_obj[\"name\"])\n",
    "print(\"Student's id: \", student_obj.get(\"id\"))"
   ]
  },
  {
   "cell_type": "code",
   "execution_count": 4,
   "id": "acdf71cd",
   "metadata": {},
   "outputs": [
    {
     "data": {
      "text/plain": [
       "{'id': 1, 'name': 'new name', 'age': 20}"
      ]
     },
     "execution_count": 4,
     "metadata": {},
     "output_type": "execute_result"
    }
   ],
   "source": [
    "# thêm/ cập nhật\n",
    "student_obj[\"age\"] = 20\n",
    "student_obj[\"name\"] = \"new name\" # Nếu trùng lặp key cũ -> cập nhật\n",
    "student_obj"
   ]
  },
  {
   "cell_type": "code",
   "execution_count": 6,
   "id": "74bd4b18",
   "metadata": {},
   "outputs": [
    {
     "data": {
      "text/plain": [
       "{'id': 1, 'name': 'new name'}"
      ]
     },
     "execution_count": 6,
     "metadata": {},
     "output_type": "execute_result"
    }
   ],
   "source": [
    "# xóa\n",
    "del student_obj[\"age\"]\n",
    "student_obj"
   ]
  }
 ],
 "metadata": {
  "kernelspec": {
   "display_name": "Python 3",
   "language": "python",
   "name": "python3"
  },
  "language_info": {
   "codemirror_mode": {
    "name": "ipython",
    "version": 3
   },
   "file_extension": ".py",
   "mimetype": "text/x-python",
   "name": "python",
   "nbconvert_exporter": "python",
   "pygments_lexer": "ipython3",
   "version": "3.11.9"
  }
 },
 "nbformat": 4,
 "nbformat_minor": 5
}
