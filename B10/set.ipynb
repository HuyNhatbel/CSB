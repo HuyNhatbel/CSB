{
 "cells": [
  {
   "cell_type": "markdown",
   "id": "52300637",
   "metadata": {},
   "source": [
    "## Đặc điểm:\n",
    "- Không trùng lặp phần tử\n",
    "- Các phần tử không có thứ tự\n",
    "- Có thể thay đổi (mutable)"
   ]
  },
  {
   "cell_type": "code",
   "execution_count": 6,
   "id": "327e7530",
   "metadata": {},
   "outputs": [
    {
     "name": "stdout",
     "output_type": "stream",
     "text": [
      "<class 'dict'>\n",
      "{'s', 'm', 'b'}\n"
     ]
    }
   ],
   "source": [
    "# khai báo\n",
    "set1 = {} # set rỗng -> không khai báo có {} -> set()\n",
    "print(type(set1))\n",
    "set2 = {\"s\", \"b\", \"m\", \"s\"}\n",
    "print(set2)"
   ]
  },
  {
   "cell_type": "code",
   "execution_count": 7,
   "id": "d9ab5b4e",
   "metadata": {},
   "outputs": [
    {
     "name": "stdout",
     "output_type": "stream",
     "text": [
      "s\n",
      "m\n",
      "b\n"
     ]
    }
   ],
   "source": [
    "# truy cập phần tử (for in)\n",
    "for item in set2:\n",
    "    print(item)"
   ]
  },
  {
   "cell_type": "code",
   "execution_count": 9,
   "id": "21fd6b13",
   "metadata": {},
   "outputs": [
    {
     "name": "stdout",
     "output_type": "stream",
     "text": [
      "{'s', 'new2', 'new', 'new1', 'm', 'b'}\n",
      "{'s', 'new2', 'new', 'new1', 'm', 'b'}\n"
     ]
    }
   ],
   "source": [
    "# thêm\n",
    "set2.add(\"new\") # thêm (dùng string)\n",
    "print(set2)\n",
    "\n",
    "set2.update({\"new1\", \"new2\"}) # thêm (dùng list)\n",
    "print(set2)"
   ]
  },
  {
   "cell_type": "code",
   "execution_count": 13,
   "id": "60f52ab6",
   "metadata": {},
   "outputs": [
    {
     "name": "stdout",
     "output_type": "stream",
     "text": [
      "{'s', 'new2', 'm', 'b'}\n"
     ]
    }
   ],
   "source": [
    "# xóa\n",
    "# set2.remove(\"new\") # phần tử không tồn tại -> báo lỗi\n",
    "# print(set2)\n",
    "\n",
    "set2.discard(\"new1\") # phần tử không tồn tại -> KHÔNG báo lỗi\n",
    "print(set2)"
   ]
  },
  {
   "cell_type": "markdown",
   "id": "0bb08456",
   "metadata": {},
   "source": [
    "## Phép toán:"
   ]
  },
  {
   "cell_type": "markdown",
   "id": "53fb9dfa",
   "metadata": {},
   "source": [
    "### Phép hợp (union):\n",
    "- Phép cộng 2 set\n",
    "- Sử dụng hàm: set.union(set)\n",
    "- Hoặc sử dụng toán tử \"|\" (or)\n",
    "- Trả về 1 mảng mới chứa tất cả phần tử của 2 mảng ban đầu"
   ]
  },
  {
   "cell_type": "code",
   "execution_count": 19,
   "id": "85b2bc72",
   "metadata": {},
   "outputs": [
    {
     "name": "stdout",
     "output_type": "stream",
     "text": [
      "Skills needed to be learn: {'nodejs', 'spring', 'react', 'angular', 'flask', 'nextjs'}\n",
      "Skills needed to be learn: {'nodejs', 'spring', 'react', 'angular', 'flask', 'nextjs'}\n"
     ]
    }
   ],
   "source": [
    "back_end = {\"nodejs\", \"spring\", \"flask\", \"nextjs\"}\n",
    "front_end = {\"nextjs\", \"nodejs\", \"react\", \"angular\"}\n",
    "print(f\"Skills needed to be learn: {back_end | front_end}\")\n",
    "print(f\"Skills needed to be learn: {back_end.union(front_end)}\")"
   ]
  },
  {
   "cell_type": "markdown",
   "id": "6d5a2902",
   "metadata": {},
   "source": [
    "### Phép giao(intersection):\n",
    "- Lấy phần tử có ở cả 2 set\n",
    "- Sử dụng hàm: set.intersection(set)\n",
    "- Hoặc sử dụng toán tử \"&\" (and)\n",
    "- Trả về 1 mảng mới chứa tất cả phần tử của 2 mảng ban đầu"
   ]
  },
  {
   "cell_type": "code",
   "execution_count": 20,
   "id": "ef202006",
   "metadata": {},
   "outputs": [
    {
     "name": "stdout",
     "output_type": "stream",
     "text": [
      "Skills needed to be learn: {'nodejs', 'nextjs'}\n",
      "Skills needed to be learn: {'nodejs', 'nextjs'}\n"
     ]
    }
   ],
   "source": [
    "print(f\"Skills needed to be learn: {back_end & front_end}\")\n",
    "print(f\"Skills needed to be learn: {back_end.intersection(front_end)}\")"
   ]
  },
  {
   "cell_type": "markdown",
   "id": "b9960c6b",
   "metadata": {},
   "source": [
    "### Phép hiệu(subtraction):\n",
    "- Lấy phần tử của mảng trừ (A) (không lấy phần tử trung trong mảng B)\n",
    "- Sử dụng hàm: set.difference(set)\n",
    "- Hoặc sử dụng toán tử \"-\" (sub)\n",
    "- Trả về 1 mảng mới chứa tất cả các phần tử của 2 mảng ban đầu"
   ]
  },
  {
   "cell_type": "code",
   "execution_count": 21,
   "id": "1a17f529",
   "metadata": {},
   "outputs": [
    {
     "name": "stdout",
     "output_type": "stream",
     "text": [
      "Only back_end skills {'spring', 'flask'}\n",
      "Only front_end skills {'react', 'angular'}\n"
     ]
    }
   ],
   "source": [
    "print(f\"Only back_end skills {back_end - front_end}\")\n",
    "print(f\"Only front_end skills {front_end.difference(back_end)}\")"
   ]
  }
 ],
 "metadata": {
  "kernelspec": {
   "display_name": "Python 3",
   "language": "python",
   "name": "python3"
  },
  "language_info": {
   "codemirror_mode": {
    "name": "ipython",
    "version": 3
   },
   "file_extension": ".py",
   "mimetype": "text/x-python",
   "name": "python",
   "nbconvert_exporter": "python",
   "pygments_lexer": "ipython3",
   "version": "3.11.9"
  }
 },
 "nbformat": 4,
 "nbformat_minor": 5
}
