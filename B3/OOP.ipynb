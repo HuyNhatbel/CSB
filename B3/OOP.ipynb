{
 "cells": [
  {
   "cell_type": "markdown",
   "id": "512b14bd",
   "metadata": {},
   "source": [
    "- OOP: class (bản vẽ): quy định **thuộc tính** + **phương thức** cho object (bản sao)\n",
    "- Mỗi class đều bắt buộc có 1 def __init__(hàm khởi tạo) \n",
    "- Tên class **viết hoa chữ đầu**.\n",
    "- **4 Tính chất**:\n",
    "  - Kế thừa\n",
    "  - Đóng gói\n",
    "  - Trừu tượng\n",
    "  - Đa hình\n",
    "- *Note: mỗi class được tạo ra, **mặc định được kế thừa từ class Object** trong thư viện Python*\n",
    "    - Nếu không khai báo hàm khởi tạo -> chương trình sẽ lấy init mặc định từ Object\n"
   ]
  },
  {
   "cell_type": "code",
   "execution_count": null,
   "id": "d621d015",
   "metadata": {},
   "outputs": [],
   "source": [
    "# Tạo class Animal: age, sound, name, hàm speak in ra tiếng kêu, hàm action\n",
    "# Tạo class Dog, Duck, Bird: chỉnh sửa lại hàm str để có thể in ra thông tin của các con vật\n",
    "# Mỗi con vật có action riêng"
   ]
  },
  {
   "cell_type": "code",
   "execution_count": 2,
   "id": "73f3aef8",
   "metadata": {},
   "outputs": [],
   "source": [
    "class Animal:\n",
    "    def __init__(self, name, age, sound):\n",
    "        self.name = name\n",
    "        self.age = age\n",
    "        self.sound = sound\n",
    "\n",
    "    def getName(self):\n",
    "        return self.__name\n",
    "    def setName(self):\n",
    "        self.__name = name\n",
    "    def getAge(self):\n",
    "        return self.__age\n",
    "    def setAge(self):\n",
    "        self.__age = age\n",
    "        \n",
    "    def speak(self):\n",
    "        return self.name + \"speaks\" + self.__sound\n",
    "    \n",
    "    def action(self):..."
   ]
  },
  {
   "cell_type": "code",
   "execution_count": 3,
   "id": "e7d47431",
   "metadata": {},
   "outputs": [],
   "source": [
    "# Tính kế thừa\n",
    "class Brid(Animal):\n",
    "    def __init__(self, name, age):\n",
    "        # Lấy code từ init lớp\n",
    "        super().__init__(name, age, \"chip\")\n",
    "        \n",
    "    def action(self):\n",
    "        print(\"Chim bay\")\n",
    "        \n",
    "    def __str__(self):\n",
    "        # Ghi đè code -> Tính đa hình\n",
    "        return \"Bird: \" + self.__name\n",
    "    \n",
    "class Dog(Animal):\n",
    "    def __init__(self, name, age):\n",
    "        # Lấy code từ init lớp\n",
    "        super().__init__(name, age, \"woof\")\n",
    "        \n",
    "    def action(self):\n",
    "        print(\"Chó chạy\")\n",
    "        \n",
    "    def __str__(self):\n",
    "        # Ghi đè code -> Tính đa hình\n",
    "        return \"Dog: \" + self.__name\n",
    "    \n",
    "class Duck(Animal):\n",
    "    def __init__(self, name, age):\n",
    "        # Lấy code từ init lớp\n",
    "        super().__init__(name, age, \"quack\")\n",
    "        \n",
    "    def action(self):\n",
    "        print(\"Vịt bơi\")\n",
    "        \n",
    "    def __str__(self):\n",
    "        # Ghi đè code -> Tính đa hình\n",
    "        return \"Duck: \" + self.__name"
   ]
  },
  {
   "cell_type": "code",
   "execution_count": 4,
   "id": "fd008614",
   "metadata": {},
   "outputs": [
    {
     "ename": "TypeError",
     "evalue": "Animal.setName() takes 1 positional argument but 2 were given",
     "output_type": "error",
     "traceback": [
      "\u001b[31m---------------------------------------------------------------------------\u001b[39m",
      "\u001b[31mTypeError\u001b[39m                                 Traceback (most recent call last)",
      "\u001b[36mCell\u001b[39m\u001b[36m \u001b[39m\u001b[32mIn[4]\u001b[39m\u001b[32m, line 4\u001b[39m\n\u001b[32m      2\u001b[39m dog1 = Dog(\u001b[33m\"\u001b[39m\u001b[33m\"\u001b[39m, \u001b[32m10\u001b[39m)\n\u001b[32m      3\u001b[39m \u001b[38;5;66;03m# Sửa tên => gọi hàm setName(tính kế thừa)\u001b[39;00m\n\u001b[32m----> \u001b[39m\u001b[32m4\u001b[39m \u001b[43mdog1\u001b[49m\u001b[43m.\u001b[49m\u001b[43msetName\u001b[49m\u001b[43m(\u001b[49m\u001b[33;43m\"\u001b[39;49m\u001b[33;43mBella\u001b[39;49m\u001b[33;43m\"\u001b[39;49m\u001b[43m)\u001b[49m\n\u001b[32m      5\u001b[39m \u001b[38;5;28mprint\u001b[39m(dog1.\u001b[34m__str__\u001b[39m())\n",
      "\u001b[31mTypeError\u001b[39m: Animal.setName() takes 1 positional argument but 2 were given"
     ]
    }
   ],
   "source": [
    "# test\n",
    "dog1 = Dog(\"\", 10)\n",
    "# Sửa tên => gọi hàm setName(tính kế thừa)\n",
    "dog1.setName(\"Bella\")\n",
    "print(dog1.__str__())"
   ]
  }
 ],
 "metadata": {
  "kernelspec": {
   "display_name": "Python 3",
   "language": "python",
   "name": "python3"
  },
  "language_info": {
   "codemirror_mode": {
    "name": "ipython",
    "version": 3
   },
   "file_extension": ".py",
   "mimetype": "text/x-python",
   "name": "python",
   "nbconvert_exporter": "python",
   "pygments_lexer": "ipython3",
   "version": "3.11.9"
  }
 },
 "nbformat": 4,
 "nbformat_minor": 5
}
