{
 "cells": [
  {
   "cell_type": "markdown",
   "id": "37fe9cc0",
   "metadata": {},
   "source": [
    "## Stack\n",
    "- **Ngăn xếp (Stack)** là một kiểu danh sách mà thao tác thêm và xóa phần tử được thực hiện ở **cuối danh sách**.\n",
    "- Stack là kiểu dữ liệu **Last In - First Out** (**LIFO**).\n",
    "keep"
   ]
  },
  {
   "cell_type": "markdown",
   "id": "bcb3016d",
   "metadata": {},
   "source": [
    "### Khai báo\n",
    "(sử dụng list để biểu diễn stack)"
   ]
  },
  {
   "cell_type": "code",
   "execution_count": 1,
   "id": "ff6f44c8",
   "metadata": {},
   "outputs": [],
   "source": [
    "# khai bao(su dung list de bieu dien stack)\n",
    "stack = [54, 2, 45]"
   ]
  },
  {
   "cell_type": "markdown",
   "id": "2ba58581",
   "metadata": {},
   "source": [
    "### Peek: truy cập phần tử"
   ]
  },
  {
   "cell_type": "code",
   "execution_count": 2,
   "id": "2a74c390",
   "metadata": {},
   "outputs": [
    {
     "data": {
      "text/plain": [
       "45"
      ]
     },
     "execution_count": 2,
     "metadata": {},
     "output_type": "execute_result"
    }
   ],
   "source": [
    "stack[-1] # lay ra phan tu cuoi cung"
   ]
  },
  {
   "cell_type": "markdown",
   "id": "8a89fc91",
   "metadata": {},
   "source": [
    "### Push: thêm phần tử vào đỉnh stack"
   ]
  },
  {
   "cell_type": "code",
   "execution_count": 3,
   "id": "7d5a761f",
   "metadata": {},
   "outputs": [
    {
     "data": {
      "text/plain": [
       "[54, 2, 45, 12]"
      ]
     },
     "execution_count": 3,
     "metadata": {},
     "output_type": "execute_result"
    }
   ],
   "source": [
    "stack.append(12)\n",
    "stack"
   ]
  },
  {
   "cell_type": "markdown",
   "id": "9570face",
   "metadata": {},
   "source": [
    "### Pop: xóa + trả về phần tử ở đỉnh stack"
   ]
  },
  {
   "cell_type": "code",
   "execution_count": null,
   "id": "fe59cf4b",
   "metadata": {},
   "outputs": [],
   "source": [
    "stack.pop()"
   ]
  },
  {
   "cell_type": "markdown",
   "id": "b76d7660",
   "metadata": {},
   "source": [
    "### Kiểm tra rỗng"
   ]
  },
  {
   "cell_type": "code",
   "execution_count": null,
   "id": "3eda006c",
   "metadata": {},
   "outputs": [],
   "source": [
    "if len(stack) == 0:\n",
    "    print(\"Empty\")\n",
    "else:\n",
    "    print(stack)"
   ]
  }
 ],
 "metadata": {
  "kernelspec": {
   "display_name": "Python 3",
   "language": "python",
   "name": "python3"
  },
  "language_info": {
   "codemirror_mode": {
    "name": "ipython",
    "version": 3
   },
   "file_extension": ".py",
   "mimetype": "text/x-python",
   "name": "python",
   "nbconvert_exporter": "python",
   "pygments_lexer": "ipython3",
   "version": "3.11.9"
  }
 },
 "nbformat": 4,
 "nbformat_minor": 5
}
