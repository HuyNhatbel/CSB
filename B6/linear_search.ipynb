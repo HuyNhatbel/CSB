{
 "cells": [
  {
   "cell_type": "markdown",
   "id": "39c8d023",
   "metadata": {},
   "source": [
    "Duyệt qua từng phần tử trong danh sách -> kiểm tra giá trị -> return index \n",
    "Không tìm thấy -> return -1"
   ]
  },
  {
   "cell_type": "code",
   "execution_count": 1,
   "id": "adfa44df",
   "metadata": {},
   "outputs": [],
   "source": [
    "def linear_search(arr, target):\n",
    "    #dsach rong\n",
    "    if not arr: return -1\n",
    "    #duyet phan tu\n",
    "    for index, value in enumerate(arr):\n",
    "        #neu thay phan tu\n",
    "        if value == target: return index\n",
    "    #ket thuc vong for -> k thay\n",
    "    return -1"
   ]
  },
  {
   "cell_type": "code",
   "execution_count": 2,
   "id": "70313577",
   "metadata": {},
   "outputs": [
    {
     "name": "stdout",
     "output_type": "stream",
     "text": [
      "Bat dau chay ham -----------------\n",
      "Ket qua chay ham: 1\n",
      "Thoi gian thuc thi: 0.000000 giay\n",
      "Bat dau chay ham -----------------\n",
      "Ket qua chay ham: -1\n",
      "Thoi gian thuc thi: 0.000000 giay\n",
      "Bat dau chay ham -----------------\n",
      "Ket qua chay ham: -1\n",
      "Thoi gian thuc thi: 0.000000 giay\n"
     ]
    }
   ],
   "source": [
    "import sys\n",
    "import os\n",
    "module_path = os.path.abspath(os.path.join(os.path.dirname('../running_time')))\n",
    "if module_path not in sys.path:\n",
    "    sys.path.append(module_path)\n",
    "from running_time import running_time\n",
    "arr = [100, 1000, 9, 21, 545, 323, 4544, 878, 767, 86, -1, -1009, 0]\n",
    "running_time(lambda: linear_search(arr, 1000))\n",
    "running_time(lambda: linear_search(arr, -5555))\n",
    "running_time(lambda: linear_search([], 0))"
   ]
  }
 ],
 "metadata": {
  "kernelspec": {
   "display_name": "Python 3",
   "language": "python",
   "name": "python3"
  },
  "language_info": {
   "codemirror_mode": {
    "name": "ipython",
    "version": 3
   },
   "file_extension": ".py",
   "mimetype": "text/x-python",
   "name": "python",
   "nbconvert_exporter": "python",
   "pygments_lexer": "ipython3",
   "version": "3.11.9"
  }
 },
 "nbformat": 4,
 "nbformat_minor": 5
}
