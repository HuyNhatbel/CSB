{
 "cells": [
  {
   "cell_type": "markdown",
   "id": "4b83637a",
   "metadata": {},
   "source": [
    "# Nhập xuất trên terminal"
   ]
  },
  {
   "cell_type": "markdown",
   "id": "680c88e8",
   "metadata": {},
   "source": [
    "## Xuất dữ liệu\n",
    "- print(a,b,c)\n",
    "- print(...., end=\", \") # không gọi end -> mặc định cách nhau bằng 1 xuống dòng"
   ]
  },
  {
   "cell_type": "code",
   "execution_count": 4,
   "id": "05dca987",
   "metadata": {},
   "outputs": [
    {
     "name": "stdout",
     "output_type": "stream",
     "text": [
      "Nhat\n",
      "CSB23\n",
      "MindX\n"
     ]
    }
   ],
   "source": [
    "print(\"Nhat\")\n",
    "print(\"CSB23\")\n",
    "print(\"MindX\")"
   ]
  },
  {
   "cell_type": "markdown",
   "id": "e45bb919",
   "metadata": {},
   "source": [
    "## nhập dữ liệu\n",
    "- input(): trả về giá trị là **string**\n",
    "- input(\"Yêu cầu nhập vào: \")"
   ]
  },
  {
   "cell_type": "code",
   "execution_count": 6,
   "id": "4526dce2",
   "metadata": {},
   "outputs": [
    {
     "name": "stdout",
     "output_type": "stream",
     "text": [
      "<class 'str'>\n"
     ]
    }
   ],
   "source": [
    "inp = input()\n",
    "print(type(inp))"
   ]
  }
 ],
 "metadata": {
  "kernelspec": {
   "display_name": "Python 3",
   "language": "python",
   "name": "python3"
  },
  "language_info": {
   "codemirror_mode": {
    "name": "ipython",
    "version": 3
   },
   "file_extension": ".py",
   "mimetype": "text/x-python",
   "name": "python",
   "nbconvert_exporter": "python",
   "pygments_lexer": "ipython3",
   "version": "3.11.9"
  }
 },
 "nbformat": 4,
 "nbformat_minor": 5
}
