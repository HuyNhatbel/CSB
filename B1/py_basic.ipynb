{
 "cells": [
  {
   "cell_type": "markdown",
   "id": "4b83637a",
   "metadata": {},
   "source": [
    "# Nhập xuất trên terminal"
   ]
  },
  {
   "cell_type": "markdown",
   "id": "680c88e8",
   "metadata": {},
   "source": [
    "## Xuất dữ liệu\n",
    "- print(a,b,c)\n",
    "- print(...., end=\", \") # không gọi end -> mặc định cách nhau bằng 1 xuống dòng"
   ]
  },
  {
   "cell_type": "code",
   "execution_count": 4,
   "id": "05dca987",
   "metadata": {},
   "outputs": [
    {
     "name": "stdout",
     "output_type": "stream",
     "text": [
      "Nhat\n",
      "CSB23\n",
      "MindX\n"
     ]
    }
   ],
   "source": [
    "print(\"Nhat\")\n",
    "print(\"CSB23\")\n",
    "print(\"MindX\")"
   ]
  },
  {
   "cell_type": "markdown",
   "id": "e45bb919",
   "metadata": {},
   "source": [
    "## Nhập dữ liệu\n",
    "- input(): trả về giá trị là **string**\n",
    "- input(\"Yêu cầu nhập vào: \")"
   ]
  },
  {
   "cell_type": "code",
   "execution_count": 6,
   "id": "4526dce2",
   "metadata": {},
   "outputs": [
    {
     "name": "stdout",
     "output_type": "stream",
     "text": [
      "<class 'str'>\n"
     ]
    }
   ],
   "source": [
    "inp = input()\n",
    "print(type(inp))"
   ]
  },
  {
   "cell_type": "markdown",
   "id": "92a07845",
   "metadata": {},
   "source": [
    "## Kiểu dữ liệu cơ bản\n",
    "- **int**: kiểu số nguyên => 1\n",
    "- **float**: kiểu số thực => 1.3\n",
    "- **string**: kiểu chuỗi => \"abc+- \"\n",
    "- **boolean**: kiểu đúng sai => true/ false"
   ]
  },
  {
   "cell_type": "code",
   "execution_count": 1,
   "id": "0f5d9137",
   "metadata": {},
   "outputs": [
    {
     "name": "stdout",
     "output_type": "stream",
     "text": [
      "<class 'bool'>\n",
      "0.30000000000000004\n"
     ]
    }
   ],
   "source": [
    "print(type(True)), type(\"string\")\n",
    "print(0.1 + 0.2)"
   ]
  },
  {
   "cell_type": "markdown",
   "id": "a15efb32",
   "metadata": {},
   "source": [
    "## Toán tử\n",
    "- Cộng(+)\n",
    "- Trừ(-)\n",
    "- Nhân(*)\n",
    "- Chia(/)\n",
    "- Chia lấy dư(%)\n",
    "- Chia lấy nguyên(//)\n",
    "- Lũy thừa(***)\n",
    "- **Lưu ý**:\n",
    "    - **Kiểu float có phạm vi lớn hơn kiểu int. Nếu phép tính có cả float và int thì kết quả sẽ theo kiểu float**\n",
    "    - Không thao tác với 2 vế **khác kiểu dữ liệu**"
   ]
  },
  {
   "cell_type": "markdown",
   "id": "250197c9",
   "metadata": {},
   "source": []
  },
  {
   "cell_type": "code",
   "execution_count": 3,
   "id": "e364a0cf",
   "metadata": {},
   "outputs": [
    {
     "name": "stdout",
     "output_type": "stream",
     "text": [
      "Age28\n",
      "aaa\n",
      "<class 'int'>\n",
      "<class 'float'>\n"
     ]
    }
   ],
   "source": [
    "print(\"Age\" + str(28)) # chuyen kieu du lieu ve string\n",
    "print(\"a\"*3) # aaa\n",
    "print(type(10%3)) # chia lay nguyen/ du => int\n",
    "print(type(10/2)) # chia thuong => float"
   ]
  },
  {
   "cell_type": "markdown",
   "id": "54ab128e",
   "metadata": {},
   "source": [
    "## Toán tử so sánh\n",
    "- Lớn hơn(>)\n",
    "- Bé hơn(<)\n",
    "- Lớn hơn hoặc bằng(>=)\n",
    "- Bé hơn hoặc bằng(<=)\n",
    "- Bằng(==)\n",
    "- Khác(!=)\n",
    "- **Lưu ý**:\n",
    "    - Trả về giá trị **boolean**\n",
    "    - Khi so sánh, chỉ xét **2 vế liền kề, từ trái sang phải**"
   ]
  },
  {
   "cell_type": "markdown",
   "id": "162e9972",
   "metadata": {},
   "source": [
    "## Toán tử logic\n",
    "- **and**: và (lấy vế False gần nhất, nếu không có False => lấy vế True cuối cùng)\n",
    "- **or**: hoặc (lấy vế True gần nhất, nếu không có True => lấy vế False cuối cùng)\n",
    "- **not**: phủ định\n",
    "- **Lưu ý:**\n",
    "  - 2 vế trái phải đều phải chuyển về kiểu dữ liệu **boolean**\n",
    "  - Trả về giá trị **boolean**\n",
    "  - Khi so sánh, chỉ xét **2 vế liền kề, từ trái sang phải**"
   ]
  },
  {
   "cell_type": "markdown",
   "id": "b72b61cb",
   "metadata": {},
   "source": [
    "**Truly, Falsy:** Những giá trị trả về False khi chuyển kiểu thành **boolean**:\n",
    "- \"\": chuỗi rỗng\n",
    "- 0, 0.0\n",
    "- False\n",
    "- None\n",
    "- [], (), {}, set(): danh sách rỗng"
   ]
  },
  {
   "cell_type": "code",
   "execution_count": 4,
   "id": "19a2d48e",
   "metadata": {},
   "outputs": [
    {
     "name": "stdout",
     "output_type": "stream",
     "text": [
      "1.2\n"
     ]
    }
   ],
   "source": [
    "a = [] # false\n",
    "b = \"abc\" # true\n",
    "c = 1.2 # true\n",
    "d = None # false\n",
    "print(a and b or c or not d) # 1.2\n",
    "# a and b: False\n",
    "# False or c: True\n",
    "# not d: True\n",
    "# True or True: True"
   ]
  },
  {
   "cell_type": "markdown",
   "id": "8ebdf194",
   "metadata": {},
   "source": [
    "# Chuyển đổi các kiểu dữ liệu\n",
    "- **type()**: kiểm tra kiểu dữ liệu\n",
    "- **int()**, **float()**: dữ liệu chuyển đổi phải là từ 0 -> 9 (có dấu chấm khi là float)\n",
    "- **bool()**: Nếu không có giá trị thuộc *Falsy* thì thuộc *True*, ngược lại là *False*\n",
    "- **str()**: tất cả đều có thể chuyển thành string\n",
    "- **set()**, **dict()**, **list()**, **tuple()**"
   ]
  },
  {
   "cell_type": "code",
   "execution_count": 4,
   "id": "8ee0411a",
   "metadata": {},
   "outputs": [
    {
     "name": "stdout",
     "output_type": "stream",
     "text": [
      "1\n",
      "1.0\n"
     ]
    }
   ],
   "source": [
    "# TH1: int <-> float\n",
    "print(int(1.2)) # 1\n",
    "print(float(1)) # 1.0"
   ]
  },
  {
   "cell_type": "code",
   "execution_count": 3,
   "id": "0bb79ae8",
   "metadata": {},
   "outputs": [
    {
     "ename": "ValueError",
     "evalue": "invalid literal for int() with base 10: '1.2'",
     "output_type": "error",
     "traceback": [
      "\u001b[31m---------------------------------------------------------------------------\u001b[39m",
      "\u001b[31mValueError\u001b[39m                                Traceback (most recent call last)",
      "\u001b[36mCell\u001b[39m\u001b[36m \u001b[39m\u001b[32mIn[3]\u001b[39m\u001b[32m, line 2\u001b[39m\n\u001b[32m      1\u001b[39m \u001b[38;5;66;03m# TH2: str -> int/float\u001b[39;00m\n\u001b[32m----> \u001b[39m\u001b[32m2\u001b[39m \u001b[38;5;28mprint\u001b[39m(\u001b[38;5;28;43mint\u001b[39;49m\u001b[43m(\u001b[49m\u001b[33;43m\"\u001b[39;49m\u001b[33;43m1.2\u001b[39;49m\u001b[33;43m\"\u001b[39;49m\u001b[43m)\u001b[49m) \u001b[38;5;66;03m# error: không nhận được dấu chấm\u001b[39;00m\n",
      "\u001b[31mValueError\u001b[39m: invalid literal for int() with base 10: '1.2'"
     ]
    }
   ],
   "source": [
    "# TH2: str -> int/float\n",
    "print(int(\"1.2\")) # error: không nhận được dấu chấm"
   ]
  },
  {
   "cell_type": "code",
   "execution_count": 5,
   "id": "17c6326d",
   "metadata": {},
   "outputs": [
    {
     "name": "stdout",
     "output_type": "stream",
     "text": [
      "['a', 'b', 'c']\n",
      "{'b', 'a', 'c'}\n"
     ]
    }
   ],
   "source": [
    "# TH3: các kiểu danh sách khác -> danh sách (set, dict, tuple, list)\n",
    "print(list(\"abc\")) # ['a', 'b', 'c']\n",
    "print(set(\"abca\")) # ['a', 'b', 'c'] (set không có thứ tự, không trùng lặp)\n",
    "# Lưu ý: không thể chuyển kiểu khác (ngoại trừ string) sang kiểu danh sách\n"
   ]
  }
 ],
 "metadata": {
  "kernelspec": {
   "display_name": "Python 3",
   "language": "python",
   "name": "python3"
  },
  "language_info": {
   "codemirror_mode": {
    "name": "ipython",
    "version": 3
   },
   "file_extension": ".py",
   "mimetype": "text/x-python",
   "name": "python",
   "nbconvert_exporter": "python",
   "pygments_lexer": "ipython3",
   "version": "3.11.9"
  }
 },
 "nbformat": 4,
 "nbformat_minor": 5
}
