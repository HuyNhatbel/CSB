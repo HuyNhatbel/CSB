{
 "cells": [
  {
   "cell_type": "markdown",
   "id": "5f740c7c",
   "metadata": {},
   "source": [
    "# Cấu trúc trình tự"
   ]
  },
  {
   "cell_type": "markdown",
   "id": "a2064d98",
   "metadata": {},
   "source": [
    "- Chạy code từ dòng trên -> dòng dưới\n",
    "- Nếu dòng trên sai -> dừng dòng dưới"
   ]
  },
  {
   "cell_type": "code",
   "execution_count": null,
   "id": "1c91de71",
   "metadata": {},
   "outputs": [],
   "source": [
    "print(1)\n",
    "print(int(\"abc\")) # dòng này lỗi, không chạy dòng dưới\n",
    "print(2)"
   ]
  },
  {
   "cell_type": "markdown",
   "id": "0871db51",
   "metadata": {},
   "source": [
    "# Cấu trúc rẽ nhánh"
   ]
  },
  {
   "cell_type": "markdown",
   "id": "8b6809e0",
   "metadata": {},
   "source": [
    "## if - elif - else"
   ]
  },
  {
   "cell_type": "code",
   "execution_count": 1,
   "id": "90a46a02",
   "metadata": {},
   "outputs": [
    {
     "name": "stdout",
     "output_type": "stream",
     "text": [
      "abc\n",
      "x nằm trong khoảng từ 0 -> 100\n"
     ]
    }
   ],
   "source": [
    "# Viết tắt cấu trúc if - else\n",
    "\"abc\" if True else \"xyz\" # Nếu true in ra \"abc\", false in ra \"xyz\"\n",
    "\"abc\" or \"\" # Có thể dùng toán tử logic\n",
    "# Viết câu lệnh if 1 dòng\n",
    "if True: print(\"abc\")\n",
    "# if - elif - else (kiểm tra khoảng)\n",
    "x = 10\n",
    "if 0 <= x <= 100:\n",
    "    print(\"x nằm trong khoảng từ 0 -> 100\")\n",
    "elif 100 <= x <= 200:\n",
    "    print(\"x nằm  trong khoảng từ 100 -> 200\")\n",
    "else:\n",
    "    print(\"x không hợp lệ\")"
   ]
  },
  {
   "cell_type": "markdown",
   "id": "cf621d65",
   "metadata": {},
   "source": [
    "## Try except\n",
    "Thường dùng để bắt lỗi cho chương trình\n",
    "=> **Không cần dừng chương trình đang hoạt động**"
   ]
  },
  {
   "cell_type": "code",
   "execution_count": null,
   "id": "2d672955",
   "metadata": {},
   "outputs": [],
   "source": [
    "# Kiểm tra kiểu dữ liệu nhập vào\n",
    "age = input(\"Nhập tuổi của bạn: \") # return kiểu str\n",
    "try:\n",
    "    age = int(age)  # Chuyển đổi sang kiểu int\n",
    "    if age < 0:\n",
    "        raise ValueError(\"Tuổi không thể là số âm\")\n",
    "except Exception as e:\n",
    "    print(f\"Lỗi: {e}\")\n",
    "finally: # Dòng này sẽ luôn chạy dù có lỗi hay không\n",
    "    print(\"Kết thúc chương trình kiểm tra tuổi.\")"
   ]
  },
  {
   "cell_type": "markdown",
   "id": "4bce5bab",
   "metadata": {},
   "source": [
    "# Cấu trúc lặp"
   ]
  },
  {
   "cell_type": "markdown",
   "id": "79308e89",
   "metadata": {},
   "source": [
    "## For (thường dùng với danh sách)"
   ]
  },
  {
   "cell_type": "markdown",
   "id": "06e11935",
   "metadata": {},
   "source": [
    "**range(start, stop, step)**\n",
    "- range(stop): chạy từ 0 -> stop - 1, mỗi lần cộng dồn 1 đơn vị\n",
    "- range(start, stop): start -> stop - 1, mỗi lần cộng dồn 1 đơn vị\n",
    "- range(start, stop, step): start -> stop - 1, mỗi lần cộng dồn step đơn vị"
   ]
  },
  {
   "cell_type": "code",
   "execution_count": 5,
   "id": "f970dd80",
   "metadata": {},
   "outputs": [
    {
     "name": "stdout",
     "output_type": "stream",
     "text": [
      "10\n",
      "9\n",
      "8\n",
      "7\n",
      "6\n",
      "5\n",
      "4\n",
      "3\n",
      "2\n",
      "1\n",
      "Chúc mừng năm mới\n"
     ]
    }
   ],
   "source": [
    "# Đếm ngược thời gian\n",
    "import time\n",
    "\n",
    "for sec in range(10, 0, -1):\n",
    "    print(sec)\n",
    "    time.sleep(1)\n",
    "print(\"Chúc mừng năm mới\")"
   ]
  },
  {
   "cell_type": "code",
   "execution_count": 8,
   "id": "f4f8bd43",
   "metadata": {},
   "outputs": [
    {
     "name": "stdout",
     "output_type": "stream",
     "text": [
      "Phân tử thứ 0 là apple\n",
      "Phân tử thứ 1 là banana\n",
      "Phân tử thứ 2 là cherry\n"
     ]
    }
   ],
   "source": [
    "# Duyệt phần tử trong danh sách\n",
    "fruits = ['apple', 'banana', 'cherry']\n",
    "for index, value in enumerate(fruits):\n",
    "    print(f\"Phân tử thứ {index} là {value}\")"
   ]
  },
  {
   "cell_type": "markdown",
   "id": "ee1841c3",
   "metadata": {},
   "source": [
    "## While\n",
    "Thường dùng cho các trường hợp **không xác định sẽ làm lặp**"
   ]
  },
  {
   "cell_type": "code",
   "execution_count": null,
   "id": "b89430f1",
   "metadata": {},
   "outputs": [],
   "source": [
    "# Kiểm tra tính hợp lệ khi nhập dữ liệu\n",
    "age = int(input(\"Nhập tuổi của bạn (phải là số dương): \"))\n",
    "while age < 0:\n",
    "    print(\"Lỗi: Tuổi phải là số dương.\")\n",
    "    try:\n",
    "        age = int(input(\"Nhập tuổi của bạn (phải là số dương): \"))\n",
    "    except Exception as e:\n",
    "        print(f\"Lỗi: {e}\")\n",
    "        age = -1  # Đặt lại age để tiếp tục vòng lặp\n",
    "        \n",
    "print(f\"Tuổi của bạn là: {age}\")\n"
   ]
  }
 ],
 "metadata": {
  "kernelspec": {
   "display_name": "Python 3",
   "language": "python",
   "name": "python3"
  },
  "language_info": {
   "codemirror_mode": {
    "name": "ipython",
    "version": 3
   },
   "file_extension": ".py",
   "mimetype": "text/x-python",
   "name": "python",
   "nbconvert_exporter": "python",
   "pygments_lexer": "ipython3",
   "version": "3.11.9"
  }
 },
 "nbformat": 4,
 "nbformat_minor": 5
}
